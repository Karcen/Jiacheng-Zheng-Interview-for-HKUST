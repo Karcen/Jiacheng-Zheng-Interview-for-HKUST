{
 "cells": [
  {
   "cell_type": "code",
   "execution_count": 2,
   "id": "cac1665b-8624-47d9-a8c3-eb10b4b2cfe9",
   "metadata": {},
   "outputs": [
    {
     "name": "stdout",
     "output_type": "stream",
     "text": [
      "结果已保存到 报警统计结果.xlsx\n"
     ]
    }
   ],
   "source": [
    "import pandas as pd\n",
    "\n",
    "# 读取Excel文件\n",
    "file_path = r\"C:\\Users\\Jiacheng Zheng\\Downloads\\24A中北暑期训练消防救援问题\\附件2：消防救援出警数据.xlsx\"\n",
    "df = pd.read_excel(file_path)\n",
    "\n",
    "# 转换接警时间点为时间格式\n",
    "df['接警时间点'] = pd.to_datetime(df['接警时间点'], format='%H:%M:%S').dt.time\n",
    "\n",
    "# 将接警日期转换为日期格式\n",
    "df['接警日期'] = pd.to_datetime(df['接警日期'])\n",
    "\n",
    "# 统计每个日期的接警次数\n",
    "date_counts = df['接警日期'].value_counts().sort_index().reset_index()\n",
    "date_counts.columns = ['接警日期', '接警次数']\n",
    "\n",
    "# 统计不同时间段的接警次数\n",
    "def categorize_time(time):\n",
    "    if time >= pd.to_datetime('00:00:00').time() and time < pd.to_datetime('08:00:00').time():\n",
    "        return '时段Ⅰ'\n",
    "    elif time >= pd.to_datetime('08:00:00').time() and time < pd.to_datetime('16:00:00').time():\n",
    "        return '时段Ⅱ'\n",
    "    else:\n",
    "        return '时段Ⅲ'\n",
    "\n",
    "df['时段'] = df['接警时间点'].apply(categorize_time)\n",
    "time_period_counts = df['时段'].value_counts().reset_index()\n",
    "time_period_counts.columns = ['时段', '接警次数']\n",
    "\n",
    "# 将结果写入新的Excel文件\n",
    "output_file_path = '报警统计结果.xlsx'\n",
    "with pd.ExcelWriter(output_file_path) as writer:\n",
    "    date_counts.to_excel(writer, sheet_name='日期接警次数', index=False)\n",
    "    time_period_counts.to_excel(writer, sheet_name='时间段接警次数', index=False)\n",
    "\n",
    "print(f\"结果已保存到 {output_file_path}\")\n",
    "\n"
   ]
  },
  {
   "cell_type": "code",
   "execution_count": 3,
   "id": "5201e270-0f5c-42a3-b598-2089ba6e597b",
   "metadata": {},
   "outputs": [
    {
     "name": "stdout",
     "output_type": "stream",
     "text": [
      "每个日期的接警次数：\n",
      "2019-01-02    1\n",
      "2019-01-06    3\n",
      "2019-01-07    1\n",
      "2019-01-08    1\n",
      "2019-01-09    1\n",
      "             ..\n",
      "2023-12-27    1\n",
      "2023-12-28    3\n",
      "2023-12-29    5\n",
      "2023-12-30    7\n",
      "2023-12-31    3\n",
      "Name: 接警日期, Length: 1370, dtype: int64\n",
      "\n",
      "不同时间段的接警次数：\n",
      "时段Ⅱ    1740\n",
      "时段Ⅲ    1380\n",
      "时段Ⅰ     563\n",
      "Name: 时段, dtype: int64\n"
     ]
    }
   ],
   "source": [
    "import pandas as pd\n",
    "\n",
    "# 读取Excel文件\n",
    "file_path = r\"C:\\Users\\Jiacheng Zheng\\Downloads\\24A中北暑期训练消防救援问题\\附件2：消防救援出警数据.xlsx\"\n",
    "df = pd.read_excel(file_path)\n",
    "\n",
    "# 转换接警时间点为时间格式\n",
    "df['接警时间点'] = pd.to_datetime(df['接警时间点'], format='%H:%M:%S').dt.time\n",
    "\n",
    "# 将接警日期转换为日期格式\n",
    "df['接警日期'] = pd.to_datetime(df['接警日期'])\n",
    "\n",
    "# 统计每个日期的接警次数\n",
    "date_counts = df['接警日期'].value_counts().sort_index()\n",
    "\n",
    "# 统计不同时间段的接警次数\n",
    "def categorize_time(time):\n",
    "    if time >= pd.to_datetime('00:00:00').time() and time < pd.to_datetime('08:00:00').time():\n",
    "        return '时段Ⅰ'\n",
    "    elif time >= pd.to_datetime('08:00:00').time() and time < pd.to_datetime('16:00:00').time():\n",
    "        return '时段Ⅱ'\n",
    "    else:\n",
    "        return '时段Ⅲ'\n",
    "\n",
    "df['时段'] = df['接警时间点'].apply(categorize_time)\n",
    "time_period_counts = df['时段'].value_counts()\n",
    "\n",
    "# 输出结果\n",
    "print(\"每个日期的接警次数：\")\n",
    "print(date_counts)\n",
    "print(\"\\n不同时间段的接警次数：\")\n",
    "print(time_period_counts)\n"
   ]
  },
  {
   "cell_type": "code",
   "execution_count": null,
   "id": "a528bfcd-3ded-4bef-a559-c6d172f067e1",
   "metadata": {},
   "outputs": [],
   "source": []
  }
 ],
 "metadata": {
  "kernelspec": {
   "display_name": "Python 3 (ipykernel)",
   "language": "python",
   "name": "python3"
  },
  "language_info": {
   "codemirror_mode": {
    "name": "ipython",
    "version": 3
   },
   "file_extension": ".py",
   "mimetype": "text/x-python",
   "name": "python",
   "nbconvert_exporter": "python",
   "pygments_lexer": "ipython3",
   "version": "3.11.5"
  }
 },
 "nbformat": 4,
 "nbformat_minor": 5
}
