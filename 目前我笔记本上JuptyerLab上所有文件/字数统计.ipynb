{
 "cells": [
  {
   "cell_type": "code",
   "execution_count": 12,
   "id": "0f9755c4-3312-4b50-9bdc-566a41d53d9f",
   "metadata": {},
   "outputs": [
    {
     "name": "stdout",
     "output_type": "stream",
     "text": [
      "文件中的中文字符数为: 2043\n"
     ]
    }
   ],
   "source": [
    "import re\n",
    "\n",
    "def count_chinese_characters(text):\n",
    "    \"\"\"\n",
    "    统计文本中的中文字符数量。\n",
    "\n",
    "    参数:\n",
    "        text (str): 输入的文本字符串。\n",
    "    \n",
    "    返回:\n",
    "        int: 中文字符的数量。\n",
    "    \"\"\"\n",
    "    # 匹配中文字符的正则表达式\n",
    "    chinese_characters = re.findall(r'[\\u4e00-\\u9fff]', text)\n",
    "    return len(chinese_characters)\n",
    "\n",
    "def count_chinese_from_file(file_path):\n",
    "    \"\"\"\n",
    "    从文件中读取文本并统计中文字符数量。\n",
    "\n",
    "    参数:\n",
    "        file_path (str): txt 文件的路径。\n",
    "    \n",
    "    返回:\n",
    "        int: 中文字符的数量。\n",
    "    \"\"\"\n",
    "    try:\n",
    "        with open(file_path, 'r', encoding='utf-8') as file:\n",
    "            text = file.read()\n",
    "        return count_chinese_characters(text)\n",
    "    except FileNotFoundError:\n",
    "        print(\"文件未找到，请检查路径。\")\n",
    "        return 0\n",
    "    except UnicodeDecodeError:\n",
    "        print(\"文件编码格式错误，请确保文件是 UTF-8 编码。\")\n",
    "        return 0\n",
    "\n",
    "# 示例：从文件中读取\n",
    "file_path = r'C:\\Users\\Jiacheng Zheng\\Downloads\\论文.txt'  # 替换为你的文件路径\n",
    "chinese_count = count_chinese_from_file(file_path)\n",
    "print(f\"文件中的中文字符数为: {chinese_count}\")\n"
   ]
  }
 ],
 "metadata": {
  "kernelspec": {
   "display_name": "Python 3 (ipykernel)",
   "language": "python",
   "name": "python3"
  },
  "language_info": {
   "codemirror_mode": {
    "name": "ipython",
    "version": 3
   },
   "file_extension": ".py",
   "mimetype": "text/x-python",
   "name": "python",
   "nbconvert_exporter": "python",
   "pygments_lexer": "ipython3",
   "version": "3.11.5"
  }
 },
 "nbformat": 4,
 "nbformat_minor": 5
}
