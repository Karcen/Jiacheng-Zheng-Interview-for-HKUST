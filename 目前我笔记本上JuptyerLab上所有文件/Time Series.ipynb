{
 "cells": [
  {
   "cell_type": "code",
   "execution_count": 18,
   "id": "7a19dc27-a903-43ae-8e59-fbe95ee8c7f8",
   "metadata": {},
   "outputs": [
    {
     "name": "stderr",
     "output_type": "stream",
     "text": [
      "C:\\Users\\Lenovo\\AppData\\Local\\Temp\\ipykernel_23848\\2719619919.py:17: FutureWarning: The frame.append method is deprecated and will be removed from pandas in a future version. Use pandas.concat instead.\n",
      "  combined_data = combined_data.append(data_row, ignore_index=True)\n",
      "C:\\Users\\Lenovo\\AppData\\Local\\Temp\\ipykernel_23848\\2719619919.py:17: FutureWarning: The frame.append method is deprecated and will be removed from pandas in a future version. Use pandas.concat instead.\n",
      "  combined_data = combined_data.append(data_row, ignore_index=True)\n",
      "C:\\Users\\Lenovo\\AppData\\Local\\Temp\\ipykernel_23848\\2719619919.py:17: FutureWarning: The frame.append method is deprecated and will be removed from pandas in a future version. Use pandas.concat instead.\n",
      "  combined_data = combined_data.append(data_row, ignore_index=True)\n",
      "C:\\Users\\Lenovo\\AppData\\Local\\Temp\\ipykernel_23848\\2719619919.py:17: FutureWarning: The frame.append method is deprecated and will be removed from pandas in a future version. Use pandas.concat instead.\n",
      "  combined_data = combined_data.append(data_row, ignore_index=True)\n",
      "C:\\Users\\Lenovo\\AppData\\Local\\Temp\\ipykernel_23848\\2719619919.py:17: FutureWarning: The frame.append method is deprecated and will be removed from pandas in a future version. Use pandas.concat instead.\n",
      "  combined_data = combined_data.append(data_row, ignore_index=True)\n",
      "C:\\Users\\Lenovo\\AppData\\Local\\Temp\\ipykernel_23848\\2719619919.py:17: FutureWarning: The frame.append method is deprecated and will be removed from pandas in a future version. Use pandas.concat instead.\n",
      "  combined_data = combined_data.append(data_row, ignore_index=True)\n",
      "C:\\Users\\Lenovo\\AppData\\Local\\Temp\\ipykernel_23848\\2719619919.py:17: FutureWarning: The frame.append method is deprecated and will be removed from pandas in a future version. Use pandas.concat instead.\n",
      "  combined_data = combined_data.append(data_row, ignore_index=True)\n",
      "C:\\Users\\Lenovo\\AppData\\Local\\Temp\\ipykernel_23848\\2719619919.py:17: FutureWarning: The frame.append method is deprecated and will be removed from pandas in a future version. Use pandas.concat instead.\n",
      "  combined_data = combined_data.append(data_row, ignore_index=True)\n",
      "C:\\Users\\Lenovo\\AppData\\Local\\Temp\\ipykernel_23848\\2719619919.py:17: FutureWarning: The frame.append method is deprecated and will be removed from pandas in a future version. Use pandas.concat instead.\n",
      "  combined_data = combined_data.append(data_row, ignore_index=True)\n",
      "C:\\Users\\Lenovo\\AppData\\Local\\Temp\\ipykernel_23848\\2719619919.py:17: FutureWarning: The frame.append method is deprecated and will be removed from pandas in a future version. Use pandas.concat instead.\n",
      "  combined_data = combined_data.append(data_row, ignore_index=True)\n",
      "C:\\Users\\Lenovo\\AppData\\Local\\Temp\\ipykernel_23848\\2719619919.py:17: FutureWarning: The frame.append method is deprecated and will be removed from pandas in a future version. Use pandas.concat instead.\n",
      "  combined_data = combined_data.append(data_row, ignore_index=True)\n",
      "C:\\Users\\Lenovo\\AppData\\Local\\Temp\\ipykernel_23848\\2719619919.py:17: FutureWarning: The frame.append method is deprecated and will be removed from pandas in a future version. Use pandas.concat instead.\n",
      "  combined_data = combined_data.append(data_row, ignore_index=True)\n",
      "C:\\Users\\Lenovo\\AppData\\Local\\Temp\\ipykernel_23848\\2719619919.py:17: FutureWarning: The frame.append method is deprecated and will be removed from pandas in a future version. Use pandas.concat instead.\n",
      "  combined_data = combined_data.append(data_row, ignore_index=True)\n",
      "C:\\Users\\Lenovo\\AppData\\Local\\Temp\\ipykernel_23848\\2719619919.py:17: FutureWarning: The frame.append method is deprecated and will be removed from pandas in a future version. Use pandas.concat instead.\n",
      "  combined_data = combined_data.append(data_row, ignore_index=True)\n",
      "C:\\Users\\Lenovo\\AppData\\Local\\Temp\\ipykernel_23848\\2719619919.py:17: FutureWarning: The frame.append method is deprecated and will be removed from pandas in a future version. Use pandas.concat instead.\n",
      "  combined_data = combined_data.append(data_row, ignore_index=True)\n",
      "C:\\Users\\Lenovo\\AppData\\Local\\Temp\\ipykernel_23848\\2719619919.py:17: FutureWarning: The frame.append method is deprecated and will be removed from pandas in a future version. Use pandas.concat instead.\n",
      "  combined_data = combined_data.append(data_row, ignore_index=True)\n",
      "C:\\Users\\Lenovo\\AppData\\Local\\Temp\\ipykernel_23848\\2719619919.py:17: FutureWarning: The frame.append method is deprecated and will be removed from pandas in a future version. Use pandas.concat instead.\n",
      "  combined_data = combined_data.append(data_row, ignore_index=True)\n",
      "C:\\Users\\Lenovo\\AppData\\Local\\Temp\\ipykernel_23848\\2719619919.py:17: FutureWarning: The frame.append method is deprecated and will be removed from pandas in a future version. Use pandas.concat instead.\n",
      "  combined_data = combined_data.append(data_row, ignore_index=True)\n",
      "C:\\Users\\Lenovo\\AppData\\Local\\Temp\\ipykernel_23848\\2719619919.py:17: FutureWarning: The frame.append method is deprecated and will be removed from pandas in a future version. Use pandas.concat instead.\n",
      "  combined_data = combined_data.append(data_row, ignore_index=True)\n",
      "C:\\Users\\Lenovo\\AppData\\Local\\Temp\\ipykernel_23848\\2719619919.py:17: FutureWarning: The frame.append method is deprecated and will be removed from pandas in a future version. Use pandas.concat instead.\n",
      "  combined_data = combined_data.append(data_row, ignore_index=True)\n",
      "C:\\Users\\Lenovo\\AppData\\Local\\Temp\\ipykernel_23848\\2719619919.py:17: FutureWarning: The frame.append method is deprecated and will be removed from pandas in a future version. Use pandas.concat instead.\n",
      "  combined_data = combined_data.append(data_row, ignore_index=True)\n",
      "C:\\Users\\Lenovo\\AppData\\Local\\Temp\\ipykernel_23848\\2719619919.py:17: FutureWarning: The frame.append method is deprecated and will be removed from pandas in a future version. Use pandas.concat instead.\n",
      "  combined_data = combined_data.append(data_row, ignore_index=True)\n",
      "C:\\Users\\Lenovo\\AppData\\Local\\Temp\\ipykernel_23848\\2719619919.py:17: FutureWarning: The frame.append method is deprecated and will be removed from pandas in a future version. Use pandas.concat instead.\n",
      "  combined_data = combined_data.append(data_row, ignore_index=True)\n",
      "C:\\Users\\Lenovo\\AppData\\Local\\Temp\\ipykernel_23848\\2719619919.py:17: FutureWarning: The frame.append method is deprecated and will be removed from pandas in a future version. Use pandas.concat instead.\n",
      "  combined_data = combined_data.append(data_row, ignore_index=True)\n",
      "C:\\Users\\Lenovo\\AppData\\Local\\Temp\\ipykernel_23848\\2719619919.py:17: FutureWarning: The frame.append method is deprecated and will be removed from pandas in a future version. Use pandas.concat instead.\n",
      "  combined_data = combined_data.append(data_row, ignore_index=True)\n",
      "C:\\Users\\Lenovo\\AppData\\Local\\Temp\\ipykernel_23848\\2719619919.py:17: FutureWarning: The frame.append method is deprecated and will be removed from pandas in a future version. Use pandas.concat instead.\n",
      "  combined_data = combined_data.append(data_row, ignore_index=True)\n"
     ]
    }
   ],
   "source": [
    "import pandas as pd\n",
    "\n",
    "# 读取Excel文件\n",
    "excel_file = r'E:\\China_vs_India\\China\\National\\1995_2020_N.xlsx'\n",
    "xls = pd.ExcelFile(excel_file)\n",
    "\n",
    "# 创建一个空的DataFrame，用于存储提取的数据\n",
    "combined_data = pd.DataFrame()\n",
    "\n",
    "# 遍历每个sheet\n",
    "for sheet_name in xls.sheet_names:\n",
    "    # 从每个sheet读取数据\n",
    "    df = pd.read_excel(excel_file, sheet_name=sheet_name)\n",
    "    # 提取第一行到第44行AU-BC列的数据\n",
    "    for row_index in range(44):\n",
    "        data_row = df.loc[row_index, 'HFCE':'IMPO']\n",
    "        combined_data = combined_data.append(data_row, ignore_index=True)\n",
    "\n",
    "# 将合并后的数据写入新的Excel文件\n",
    "combined_data.to_excel('combined_data.xlsx', index=False)\n"
   ]
  },
  {
   "cell_type": "code",
   "execution_count": 25,
   "id": "a628e103-ec74-481e-8aad-cd6a03a32b54",
   "metadata": {},
   "outputs": [
    {
     "ename": "PermissionError",
     "evalue": "[Errno 13] Permission denied: 'output.xlsx'",
     "output_type": "error",
     "traceback": [
      "\u001b[1;31m---------------------------------------------------------------------------\u001b[0m",
      "\u001b[1;31mPermissionError\u001b[0m                           Traceback (most recent call last)",
      "Cell \u001b[1;32mIn[25], line 28\u001b[0m\n\u001b[0;32m     25\u001b[0m     wb\u001b[38;5;241m.\u001b[39msave(\u001b[38;5;124m\"\u001b[39m\u001b[38;5;124moutput.xlsx\u001b[39m\u001b[38;5;124m\"\u001b[39m)\n\u001b[0;32m     27\u001b[0m \u001b[38;5;66;03m# 生成 Excel 文件\u001b[39;00m\n\u001b[1;32m---> 28\u001b[0m \u001b[43mgenerate_excel\u001b[49m\u001b[43m(\u001b[49m\u001b[43m)\u001b[49m\n",
      "Cell \u001b[1;32mIn[25], line 25\u001b[0m, in \u001b[0;36mgenerate_excel\u001b[1;34m()\u001b[0m\n\u001b[0;32m     22\u001b[0m         ws\u001b[38;5;241m.\u001b[39mappend([s, year])\n\u001b[0;32m     24\u001b[0m \u001b[38;5;66;03m# 保存工作簿\u001b[39;00m\n\u001b[1;32m---> 25\u001b[0m \u001b[43mwb\u001b[49m\u001b[38;5;241;43m.\u001b[39;49m\u001b[43msave\u001b[49m\u001b[43m(\u001b[49m\u001b[38;5;124;43m\"\u001b[39;49m\u001b[38;5;124;43moutput.xlsx\u001b[39;49m\u001b[38;5;124;43m\"\u001b[39;49m\u001b[43m)\u001b[49m\n",
      "File \u001b[1;32mD:\\Anaconda3\\lib\\site-packages\\openpyxl\\workbook\\workbook.py:407\u001b[0m, in \u001b[0;36mWorkbook.save\u001b[1;34m(self, filename)\u001b[0m\n\u001b[0;32m    405\u001b[0m \u001b[38;5;28;01mif\u001b[39;00m \u001b[38;5;28mself\u001b[39m\u001b[38;5;241m.\u001b[39mwrite_only \u001b[38;5;129;01mand\u001b[39;00m \u001b[38;5;129;01mnot\u001b[39;00m \u001b[38;5;28mself\u001b[39m\u001b[38;5;241m.\u001b[39mworksheets:\n\u001b[0;32m    406\u001b[0m     \u001b[38;5;28mself\u001b[39m\u001b[38;5;241m.\u001b[39mcreate_sheet()\n\u001b[1;32m--> 407\u001b[0m \u001b[43msave_workbook\u001b[49m\u001b[43m(\u001b[49m\u001b[38;5;28;43mself\u001b[39;49m\u001b[43m,\u001b[49m\u001b[43m \u001b[49m\u001b[43mfilename\u001b[49m\u001b[43m)\u001b[49m\n",
      "File \u001b[1;32mD:\\Anaconda3\\lib\\site-packages\\openpyxl\\writer\\excel.py:291\u001b[0m, in \u001b[0;36msave_workbook\u001b[1;34m(workbook, filename)\u001b[0m\n\u001b[0;32m    279\u001b[0m \u001b[38;5;28;01mdef\u001b[39;00m \u001b[38;5;21msave_workbook\u001b[39m(workbook, filename):\n\u001b[0;32m    280\u001b[0m     \u001b[38;5;124;03m\"\"\"Save the given workbook on the filesystem under the name filename.\u001b[39;00m\n\u001b[0;32m    281\u001b[0m \n\u001b[0;32m    282\u001b[0m \u001b[38;5;124;03m    :param workbook: the workbook to save\u001b[39;00m\n\u001b[1;32m   (...)\u001b[0m\n\u001b[0;32m    289\u001b[0m \n\u001b[0;32m    290\u001b[0m \u001b[38;5;124;03m    \"\"\"\u001b[39;00m\n\u001b[1;32m--> 291\u001b[0m     archive \u001b[38;5;241m=\u001b[39m \u001b[43mZipFile\u001b[49m\u001b[43m(\u001b[49m\u001b[43mfilename\u001b[49m\u001b[43m,\u001b[49m\u001b[43m \u001b[49m\u001b[38;5;124;43m'\u001b[39;49m\u001b[38;5;124;43mw\u001b[39;49m\u001b[38;5;124;43m'\u001b[39;49m\u001b[43m,\u001b[49m\u001b[43m \u001b[49m\u001b[43mZIP_DEFLATED\u001b[49m\u001b[43m,\u001b[49m\u001b[43m \u001b[49m\u001b[43mallowZip64\u001b[49m\u001b[38;5;241;43m=\u001b[39;49m\u001b[38;5;28;43;01mTrue\u001b[39;49;00m\u001b[43m)\u001b[49m\n\u001b[0;32m    292\u001b[0m     writer \u001b[38;5;241m=\u001b[39m ExcelWriter(workbook, archive)\n\u001b[0;32m    293\u001b[0m     writer\u001b[38;5;241m.\u001b[39msave()\n",
      "File \u001b[1;32mD:\\Anaconda3\\lib\\zipfile.py:1249\u001b[0m, in \u001b[0;36mZipFile.__init__\u001b[1;34m(self, file, mode, compression, allowZip64, compresslevel, strict_timestamps)\u001b[0m\n\u001b[0;32m   1247\u001b[0m \u001b[38;5;28;01mwhile\u001b[39;00m \u001b[38;5;28;01mTrue\u001b[39;00m:\n\u001b[0;32m   1248\u001b[0m     \u001b[38;5;28;01mtry\u001b[39;00m:\n\u001b[1;32m-> 1249\u001b[0m         \u001b[38;5;28mself\u001b[39m\u001b[38;5;241m.\u001b[39mfp \u001b[38;5;241m=\u001b[39m \u001b[43mio\u001b[49m\u001b[38;5;241;43m.\u001b[39;49m\u001b[43mopen\u001b[49m\u001b[43m(\u001b[49m\u001b[43mfile\u001b[49m\u001b[43m,\u001b[49m\u001b[43m \u001b[49m\u001b[43mfilemode\u001b[49m\u001b[43m)\u001b[49m\n\u001b[0;32m   1250\u001b[0m     \u001b[38;5;28;01mexcept\u001b[39;00m \u001b[38;5;167;01mOSError\u001b[39;00m:\n\u001b[0;32m   1251\u001b[0m         \u001b[38;5;28;01mif\u001b[39;00m filemode \u001b[38;5;129;01min\u001b[39;00m modeDict:\n",
      "\u001b[1;31mPermissionError\u001b[0m: [Errno 13] Permission denied: 'output.xlsx'"
     ]
    }
   ],
   "source": [
    "from openpyxl import Workbook\n",
    "\n",
    "def generate_excel():\n",
    "    # 创建一个新的工作簿\n",
    "    wb = Workbook()\n",
    "    \n",
    "    # 激活第一个工作表\n",
    "    ws = wb.active\n",
    "    \n",
    "    # 定义S1-S44列表\n",
    "    s_list = ['S{}'.format(i) for i in range(1, 45)]\n",
    "    \n",
    "    # 定义年份列表\n",
    "    year_list = list(range(1995, 2021))\n",
    "    \n",
    "    # 写入表头\n",
    "    ws.append([\"S\", \"Year\"])\n",
    "    \n",
    "    # 循环写入表格内容\n",
    "    for s in s_list:\n",
    "        for year in year_list:\n",
    "            ws.append([s, year])\n",
    "\n",
    "    # 保存工作簿\n",
    "    wb.save(\"output.xlsx\")\n",
    "\n",
    "# 生成 Excel 文件\n",
    "generate_excel()\n"
   ]
  },
  {
   "cell_type": "code",
   "execution_count": null,
   "id": "05eb8405-9878-4774-bb6d-f465326ad1dc",
   "metadata": {},
   "outputs": [],
   "source": []
  },
  {
   "cell_type": "code",
   "execution_count": null,
   "id": "67d8659d-a045-4e7d-a1fb-4baa7f85097c",
   "metadata": {},
   "outputs": [],
   "source": []
  }
 ],
 "metadata": {
  "kernelspec": {
   "display_name": "Python 3 (ipykernel)",
   "language": "python",
   "name": "python3"
  },
  "language_info": {
   "codemirror_mode": {
    "name": "ipython",
    "version": 3
   },
   "file_extension": ".py",
   "mimetype": "text/x-python",
   "name": "python",
   "nbconvert_exporter": "python",
   "pygments_lexer": "ipython3",
   "version": "3.10.9"
  }
 },
 "nbformat": 4,
 "nbformat_minor": 5
}
